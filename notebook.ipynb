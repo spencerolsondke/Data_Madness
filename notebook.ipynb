{
 "cells": [
  {
   "cell_type": "code",
   "execution_count": 64,
   "metadata": {},
   "outputs": [
    {
     "name": "stdout",
     "output_type": "stream",
     "text": [
      "1543541\n"
     ]
    }
   ],
   "source": [
    "import pandas as pd\n",
    "import os\n",
    "import glob\n",
    "\n",
    "df = pd.DataFrame()\n",
    "for i, d in enumerate(os.listdir('data')):\n",
    "    if '.csv' in d: os.rename('data/'+d, f'data/DataExtact-{i}')\n",
    "\n",
    "for p in glob.glob('data/**/*.csv'):\n",
    "    df = pd.concat([df, pd.read_csv(p)])\n",
    "\n",
    "df = df.drop_duplicates()\n",
    "\n",
    "print(len(df))"
   ]
  },
  {
   "cell_type": "code",
   "execution_count": 62,
   "metadata": {},
   "outputs": [
    {
     "name": "stdout",
     "output_type": "stream",
     "text": [
      "0\n"
     ]
    }
   ],
   "source": [
    "import numpy as np\n",
    "print(np.sum(df.duplicated()))"
   ]
  },
  {
   "cell_type": "code",
   "execution_count": 63,
   "metadata": {},
   "outputs": [],
   "source": [
    "from countryinfo import CountryInfo\n",
    "\n",
    "def getArea(country_name):\n",
    "    return CountryInfo(country_name).info()['area']\n",
    "def getPop(country_name):\n",
    "    return CountryInfo(country_name).info()['population']\n",
    "\n",
    "country_df = pd.DataFrame()\n",
    "country_df['Country'] = df['Country'].unique()\n",
    "country_df['Area'] = country_df['Country'].apply(getArea)\n",
    "country_df['Population'] = country_df['Country'].apply(getPop)\n",
    "\n",
    "df.to_csv('final_data.csv')\n",
    "country_df.to_csv('country_data.csv')"
   ]
  }
 ],
 "metadata": {
  "kernelspec": {
   "display_name": "Python 3.10.4 64-bit",
   "language": "python",
   "name": "python3"
  },
  "language_info": {
   "codemirror_mode": {
    "name": "ipython",
    "version": 3
   },
   "file_extension": ".py",
   "mimetype": "text/x-python",
   "name": "python",
   "nbconvert_exporter": "python",
   "pygments_lexer": "ipython3",
   "version": "3.10.4"
  },
  "orig_nbformat": 4,
  "vscode": {
   "interpreter": {
    "hash": "f99137da5cada5aea83b193667b6716dd18278f0d33584eba16cd6eb1cebfd55"
   }
  }
 },
 "nbformat": 4,
 "nbformat_minor": 2
}
